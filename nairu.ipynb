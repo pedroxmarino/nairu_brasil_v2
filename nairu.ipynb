{
  "cells": [
    {
      "cell_type": "markdown",
      "metadata": {
        "id": "EjQDsj7h7GjF"
      },
      "source": [
        "# NAIRU\n",
        "\n",
        "NAIRU, sigla em inglês para \"Non-Accelerating Inflation Rate of Unemployment\" (Taxa de Desemprego Não Aceleradora da Inflação), refere-se ao nível de desemprego em uma economia que não provoca aceleração da inflação. Em outras palavras, é a taxa de desemprego em que a inflação permanece estável, não aumentando nem diminuindo.\n",
        "\n",
        "Essa relação entre desemprego e inflação é capturada pela curva de Phillips. A curva de Phillips originalmente ilustra uma relação inversa entre a taxa de desemprego e a taxa de inflação: quando o desemprego é baixo, a inflação tende a ser alta, e vice-versa.\n",
        "\n",
        "# Modelo\n",
        "\n",
        "Para estimar a NAIRU, vou realizar os seguintes passos:\n",
        "\n",
        "1) Estimar uma Curva de Phillips\n",
        "2) A partir dos parâmetros estimados, obter a NAIRU somado aos movimentos de curto prazo/choque\n",
        "3) Obter o componente cíclio (NAIRU) da soma em 2 através do uso do Filtro HP.\n",
        "\n",
        "\n",
        "Estimamos a Curva de Phillips conforme:\n",
        "\n",
        "$$\\Pi = \\Pi^e + a(U- U^*) + v$$\n",
        "\n",
        "aqui, $\\Pi$ é a inflação corrente, $\\Pi^e$ é a inflação esperada (com expectativas adaptativas ou racionais), $U$ é a taxa de desemprego, $U*$ é a taxa de desemprego natural, e $v$ representa um choque de oferta.\n",
        "\n",
        "Rearranjando:\n",
        "\n",
        "$$ \\Delta \\Pi = aU^* - aU + v $$\n",
        "\n",
        "Podemos estimar os parâmetros facilmente por Mínimos Quadrados Ordinários desde que assumimos que $v$ seja contemporâneamente não correlacionado com $U$.\n",
        "\n",
        "Para obter $U^*$, rearranjamos a equação:\n",
        "\n",
        "$$U^* + v/a = U + \\Delta \\Pi / a$$\n",
        "\n",
        "O lado direito pode ser obtido somente com os dados, e com a estimação de $a$ através da curva de phillips. O resultado será a estimativa da NAIRU ($U*$) somado com os choques de curto prazo ($v/a$). Assim, para obter o componente cíclico (NAIRU) aplicamos o Filtro HP.\n",
        "\n",
        "# Criando uma NAIRU para o Brasil\n",
        "\n",
        "Para criar uma NAIRU para o Brasil definimos os seguintes passos:\n",
        "\n",
        "1) Coleta dos dados da Taxa de Desocupação da PNADc, realizando um ajuste sazonal com o método X-13ARIMA-SEATS\n",
        "2) Coleta e tratamentos dos dados da Expectativas do IPCA em 12 meses pelas Expectativas Focus\n",
        "3) Coleta e tratamentos dos dados do IPCA acumulado em 12 meses\n",
        "4) Estimação da NAIRU pelo método de Ball e Mankiw usando a biblioteca `statsmodels`."
      ]
    },
    {
      "cell_type": "markdown",
      "metadata": {
        "id": "FdFXXJ4xdCpW"
      },
      "source": [
        "# 1. Carregamento de Bibliotecas"
      ]
    },
    {
      "cell_type": "code",
      "execution_count": 1,
      "metadata": {
        "id": "b6baPgdI3v6m"
      },
      "outputs": [
        {
          "name": "stdout",
          "output_type": "stream",
          "text": [
            "Collecting python-bcb\n",
            "  Downloading python_bcb-0.2.0-py3-none-any.whl.metadata (2.5 kB)\n",
            "Collecting httpx<0.25.0,>=0.24.0 (from python-bcb)\n",
            "  Downloading httpx-0.24.1-py3-none-any.whl.metadata (7.4 kB)\n",
            "Requirement already satisfied: lxml<5.0.0,>=4.9.2 in c:\\users\\pedro\\anaconda3\\lib\\site-packages (from python-bcb) (4.9.3)\n",
            "Requirement already satisfied: pandas<3.0.0,>=2.0.0 in c:\\users\\pedro\\anaconda3\\lib\\site-packages (from python-bcb) (2.1.4)\n",
            "Requirement already satisfied: requests<3.0.0,>=2.31.0 in c:\\users\\pedro\\anaconda3\\lib\\site-packages (from python-bcb) (2.31.0)\n",
            "Requirement already satisfied: certifi in c:\\users\\pedro\\anaconda3\\lib\\site-packages (from httpx<0.25.0,>=0.24.0->python-bcb) (2024.2.2)\n",
            "Collecting httpcore<0.18.0,>=0.15.0 (from httpx<0.25.0,>=0.24.0->python-bcb)\n",
            "  Downloading httpcore-0.17.3-py3-none-any.whl.metadata (18 kB)\n",
            "Requirement already satisfied: idna in c:\\users\\pedro\\anaconda3\\lib\\site-packages (from httpx<0.25.0,>=0.24.0->python-bcb) (3.4)\n",
            "Requirement already satisfied: sniffio in c:\\users\\pedro\\anaconda3\\lib\\site-packages (from httpx<0.25.0,>=0.24.0->python-bcb) (1.3.0)\n",
            "Requirement already satisfied: numpy<2,>=1.23.2 in c:\\users\\pedro\\anaconda3\\lib\\site-packages (from pandas<3.0.0,>=2.0.0->python-bcb) (1.26.4)\n",
            "Requirement already satisfied: python-dateutil>=2.8.2 in c:\\users\\pedro\\appdata\\roaming\\python\\python311\\site-packages (from pandas<3.0.0,>=2.0.0->python-bcb) (2.8.2)\n",
            "Requirement already satisfied: pytz>=2020.1 in c:\\users\\pedro\\anaconda3\\lib\\site-packages (from pandas<3.0.0,>=2.0.0->python-bcb) (2023.3.post1)\n",
            "Requirement already satisfied: tzdata>=2022.1 in c:\\users\\pedro\\anaconda3\\lib\\site-packages (from pandas<3.0.0,>=2.0.0->python-bcb) (2023.3)\n",
            "Requirement already satisfied: charset-normalizer<4,>=2 in c:\\users\\pedro\\anaconda3\\lib\\site-packages (from requests<3.0.0,>=2.31.0->python-bcb) (2.0.4)\n",
            "Requirement already satisfied: urllib3<3,>=1.21.1 in c:\\users\\pedro\\anaconda3\\lib\\site-packages (from requests<3.0.0,>=2.31.0->python-bcb) (2.0.7)\n",
            "Collecting h11<0.15,>=0.13 (from httpcore<0.18.0,>=0.15.0->httpx<0.25.0,>=0.24.0->python-bcb)\n",
            "  Downloading h11-0.14.0-py3-none-any.whl.metadata (8.2 kB)\n",
            "Requirement already satisfied: anyio<5.0,>=3.0 in c:\\users\\pedro\\anaconda3\\lib\\site-packages (from httpcore<0.18.0,>=0.15.0->httpx<0.25.0,>=0.24.0->python-bcb) (4.2.0)\n",
            "Requirement already satisfied: six>=1.5 in c:\\users\\pedro\\appdata\\roaming\\python\\python311\\site-packages (from python-dateutil>=2.8.2->pandas<3.0.0,>=2.0.0->python-bcb) (1.16.0)\n",
            "Downloading python_bcb-0.2.0-py3-none-any.whl (16 kB)\n",
            "Downloading httpx-0.24.1-py3-none-any.whl (75 kB)\n",
            "   ---------------------------------------- 0.0/75.4 kB ? eta -:--:--\n",
            "   ---------------------------------------- 75.4/75.4 kB 4.3 MB/s eta 0:00:00\n",
            "Downloading httpcore-0.17.3-py3-none-any.whl (74 kB)\n",
            "   ---------------------------------------- 0.0/74.5 kB ? eta -:--:--\n",
            "   ---------------------------------------- 74.5/74.5 kB ? eta 0:00:00\n",
            "Downloading h11-0.14.0-py3-none-any.whl (58 kB)\n",
            "   ---------------------------------------- 0.0/58.3 kB ? eta -:--:--\n",
            "   ---------------------------------------- 58.3/58.3 kB 3.0 MB/s eta 0:00:00\n",
            "Installing collected packages: h11, httpcore, httpx, python-bcb\n",
            "Successfully installed h11-0.14.0 httpcore-0.17.3 httpx-0.24.1 python-bcb-0.2.0\n"
          ]
        }
      ],
      "source": [
        "!pip install python-bcb"
      ]
    },
    {
      "cell_type": "code",
      "execution_count": 3,
      "metadata": {},
      "outputs": [
        {
          "name": "stdout",
          "output_type": "stream",
          "text": [
            "Collecting plotnine\n",
            "  Downloading plotnine-0.13.6-py3-none-any.whl.metadata (8.9 kB)\n",
            "Requirement already satisfied: matplotlib>=3.7.0 in c:\\users\\pedro\\anaconda3\\lib\\site-packages (from plotnine) (3.8.0)\n",
            "Requirement already satisfied: pandas<3.0.0,>=2.1.0 in c:\\users\\pedro\\anaconda3\\lib\\site-packages (from plotnine) (2.1.4)\n",
            "Collecting mizani~=0.11.0 (from plotnine)\n",
            "  Downloading mizani-0.11.3-py3-none-any.whl.metadata (4.8 kB)\n",
            "Requirement already satisfied: numpy>=1.23.0 in c:\\users\\pedro\\anaconda3\\lib\\site-packages (from plotnine) (1.26.4)\n",
            "Requirement already satisfied: scipy>=1.7.0 in c:\\users\\pedro\\anaconda3\\lib\\site-packages (from plotnine) (1.11.4)\n",
            "Requirement already satisfied: statsmodels>=0.14.0 in c:\\users\\pedro\\anaconda3\\lib\\site-packages (from plotnine) (0.14.0)\n",
            "Requirement already satisfied: contourpy>=1.0.1 in c:\\users\\pedro\\anaconda3\\lib\\site-packages (from matplotlib>=3.7.0->plotnine) (1.2.0)\n",
            "Requirement already satisfied: cycler>=0.10 in c:\\users\\pedro\\anaconda3\\lib\\site-packages (from matplotlib>=3.7.0->plotnine) (0.11.0)\n",
            "Requirement already satisfied: fonttools>=4.22.0 in c:\\users\\pedro\\anaconda3\\lib\\site-packages (from matplotlib>=3.7.0->plotnine) (4.25.0)\n",
            "Requirement already satisfied: kiwisolver>=1.0.1 in c:\\users\\pedro\\anaconda3\\lib\\site-packages (from matplotlib>=3.7.0->plotnine) (1.4.4)\n",
            "Requirement already satisfied: packaging>=20.0 in c:\\users\\pedro\\appdata\\roaming\\python\\python311\\site-packages (from matplotlib>=3.7.0->plotnine) (23.0)\n",
            "Requirement already satisfied: pillow>=6.2.0 in c:\\users\\pedro\\anaconda3\\lib\\site-packages (from matplotlib>=3.7.0->plotnine) (10.2.0)\n",
            "Requirement already satisfied: pyparsing>=2.3.1 in c:\\users\\pedro\\anaconda3\\lib\\site-packages (from matplotlib>=3.7.0->plotnine) (3.0.9)\n",
            "Requirement already satisfied: python-dateutil>=2.7 in c:\\users\\pedro\\appdata\\roaming\\python\\python311\\site-packages (from matplotlib>=3.7.0->plotnine) (2.8.2)\n",
            "Requirement already satisfied: tzdata in c:\\users\\pedro\\anaconda3\\lib\\site-packages (from mizani~=0.11.0->plotnine) (2023.3)\n",
            "Requirement already satisfied: pytz>=2020.1 in c:\\users\\pedro\\anaconda3\\lib\\site-packages (from pandas<3.0.0,>=2.1.0->plotnine) (2023.3.post1)\n",
            "Requirement already satisfied: patsy>=0.5.2 in c:\\users\\pedro\\anaconda3\\lib\\site-packages (from statsmodels>=0.14.0->plotnine) (0.5.3)\n",
            "Requirement already satisfied: six in c:\\users\\pedro\\appdata\\roaming\\python\\python311\\site-packages (from patsy>=0.5.2->statsmodels>=0.14.0->plotnine) (1.16.0)\n",
            "Downloading plotnine-0.13.6-py3-none-any.whl (1.3 MB)\n",
            "   ---------------------------------------- 0.0/1.3 MB ? eta -:--:--\n",
            "    --------------------------------------- 0.0/1.3 MB 1.4 MB/s eta 0:00:01\n",
            "   -- ------------------------------------- 0.1/1.3 MB 1.2 MB/s eta 0:00:02\n",
            "   ------- -------------------------------- 0.3/1.3 MB 2.3 MB/s eta 0:00:01\n",
            "   ------------------ --------------------- 0.6/1.3 MB 3.9 MB/s eta 0:00:01\n",
            "   -------------------------------- ------- 1.0/1.3 MB 5.1 MB/s eta 0:00:01\n",
            "   ---------------------------------------- 1.3/1.3 MB 5.1 MB/s eta 0:00:00\n",
            "Downloading mizani-0.11.3-py3-none-any.whl (127 kB)\n",
            "   ---------------------------------------- 0.0/127.4 kB ? eta -:--:--\n",
            "   ---------------------------------------- 127.4/127.4 kB 7.3 MB/s eta 0:00:00\n",
            "Installing collected packages: mizani, plotnine\n",
            "Successfully installed mizani-0.11.3 plotnine-0.13.6\n"
          ]
        }
      ],
      "source": [
        "!pip install plotnine"
      ]
    },
    {
      "cell_type": "code",
      "execution_count": 4,
      "metadata": {
        "id": "3-OSuxTtzN-x"
      },
      "outputs": [],
      "source": [
        "# Carrega bibliotecas\n",
        "import pandas as pd\n",
        "import numpy as np\n",
        "from bcb import sgs\n",
        "from bcb import Expectativas\n",
        "from plotnine import *\n",
        "import statsmodels.api as sm\n",
        "from statsmodels.tsa import x13\n",
        "import os"
      ]
    },
    {
      "cell_type": "markdown",
      "metadata": {
        "id": "YXjCOfJ7dIa1"
      },
      "source": [
        "# 2.1 Dados da Taxa de Desocupação\n"
      ]
    },
    {
      "cell_type": "code",
      "execution_count": 5,
      "metadata": {
        "id": "AJ5cz6Uu7QGI"
      },
      "outputs": [],
      "source": [
        "# Taxa de desocupação - PNADC\n",
        "pnad = sgs.get({'pnad' : 24369})"
      ]
    },
    {
      "cell_type": "markdown",
      "metadata": {
        "id": "fJKWMwSEKtfb"
      },
      "source": [
        "### 2.1.1 Ajuste Sazonal\n"
      ]
    },
    {
      "cell_type": "code",
      "execution_count": 36,
      "metadata": {
        "colab": {
          "base_uri": "https://localhost:8080/"
        },
        "id": "BzCn_h7Fg9u2",
        "outputId": "e83c6366-9f7b-47ea-f66c-0ff373fdc52e"
      },
      "outputs": [],
      "source": [
        "# O método abaixo aplica para o Windows\n",
        "import urllib.request\n",
        "import zipfile\n",
        "\n",
        "url = \"https://www2.census.gov/software/x-13arima-seats/x13as/windows/program-archives/x13as_ascii-v1-1-b59.zip\"\n",
        "nome_arquivo_zip = \"x13as_ascii-v1-1-b59.zip\"\n",
        "\n",
        "# Baixa o arquivo\n",
        "urllib.request.urlretrieve(url, nome_arquivo_zip)\n",
        "\n",
        "# Extrai o arquivo zipado\n",
        "with zipfile.ZipFile(nome_arquivo_zip, 'r') as zip_ref:\n",
        "    zip_ref.extractall()\n",
        "    \n",
        "# Define o caminho do programa como variável de ambiente\n",
        "os.environ[\"X13PATH\"] = \"x13as\""
      ]
    },
    {
      "cell_type": "code",
      "execution_count": 37,
      "metadata": {
        "colab": {
          "base_uri": "https://localhost:8080/",
          "height": 458
        },
        "id": "wduAG9cjhY5X",
        "outputId": "faefb74f-3510-49af-adbf-c9c94f3d7884"
      },
      "outputs": [
        {
          "name": "stderr",
          "output_type": "stream",
          "text": [
            "c:\\Users\\pedro\\anaconda3\\Lib\\site-packages\\statsmodels\\tsa\\x13.py:189: X13Warning: WARNING: At least one visually significant seasonal peak has been found\n",
            "          in the estimated spectrum of the regARIMA residuals.\n"
          ]
        },
        {
          "data": {
            "text/html": [
              "<div>\n",
              "<style scoped>\n",
              "    .dataframe tbody tr th:only-of-type {\n",
              "        vertical-align: middle;\n",
              "    }\n",
              "\n",
              "    .dataframe tbody tr th {\n",
              "        vertical-align: top;\n",
              "    }\n",
              "\n",
              "    .dataframe thead th {\n",
              "        text-align: right;\n",
              "    }\n",
              "</style>\n",
              "<table border=\"1\" class=\"dataframe\">\n",
              "  <thead>\n",
              "    <tr style=\"text-align: right;\">\n",
              "      <th></th>\n",
              "      <th>Date</th>\n",
              "      <th>pnad</th>\n",
              "      <th>pnad_sa</th>\n",
              "    </tr>\n",
              "  </thead>\n",
              "  <tbody>\n",
              "    <tr>\n",
              "      <th>0</th>\n",
              "      <td>2012-03-01</td>\n",
              "      <td>8.0</td>\n",
              "      <td>7.471568</td>\n",
              "    </tr>\n",
              "    <tr>\n",
              "      <th>1</th>\n",
              "      <td>2012-04-01</td>\n",
              "      <td>7.8</td>\n",
              "      <td>7.410189</td>\n",
              "    </tr>\n",
              "    <tr>\n",
              "      <th>2</th>\n",
              "      <td>2012-05-01</td>\n",
              "      <td>7.7</td>\n",
              "      <td>7.405678</td>\n",
              "    </tr>\n",
              "    <tr>\n",
              "      <th>3</th>\n",
              "      <td>2012-06-01</td>\n",
              "      <td>7.6</td>\n",
              "      <td>7.443697</td>\n",
              "    </tr>\n",
              "    <tr>\n",
              "      <th>4</th>\n",
              "      <td>2012-07-01</td>\n",
              "      <td>7.5</td>\n",
              "      <td>7.346426</td>\n",
              "    </tr>\n",
              "    <tr>\n",
              "      <th>...</th>\n",
              "      <td>...</td>\n",
              "      <td>...</td>\n",
              "      <td>...</td>\n",
              "    </tr>\n",
              "    <tr>\n",
              "      <th>140</th>\n",
              "      <td>2023-11-01</td>\n",
              "      <td>7.5</td>\n",
              "      <td>7.821635</td>\n",
              "    </tr>\n",
              "    <tr>\n",
              "      <th>141</th>\n",
              "      <td>2023-12-01</td>\n",
              "      <td>7.4</td>\n",
              "      <td>7.782947</td>\n",
              "    </tr>\n",
              "    <tr>\n",
              "      <th>142</th>\n",
              "      <td>2024-01-01</td>\n",
              "      <td>7.6</td>\n",
              "      <td>7.649792</td>\n",
              "    </tr>\n",
              "    <tr>\n",
              "      <th>143</th>\n",
              "      <td>2024-02-01</td>\n",
              "      <td>7.8</td>\n",
              "      <td>7.537439</td>\n",
              "    </tr>\n",
              "    <tr>\n",
              "      <th>144</th>\n",
              "      <td>2024-03-01</td>\n",
              "      <td>7.9</td>\n",
              "      <td>7.417003</td>\n",
              "    </tr>\n",
              "  </tbody>\n",
              "</table>\n",
              "<p>145 rows × 3 columns</p>\n",
              "</div>"
            ],
            "text/plain": [
              "          Date  pnad   pnad_sa\n",
              "0   2012-03-01   8.0  7.471568\n",
              "1   2012-04-01   7.8  7.410189\n",
              "2   2012-05-01   7.7  7.405678\n",
              "3   2012-06-01   7.6  7.443697\n",
              "4   2012-07-01   7.5  7.346426\n",
              "..         ...   ...       ...\n",
              "140 2023-11-01   7.5  7.821635\n",
              "141 2023-12-01   7.4  7.782947\n",
              "142 2024-01-01   7.6  7.649792\n",
              "143 2024-02-01   7.8  7.537439\n",
              "144 2024-03-01   7.9  7.417003\n",
              "\n",
              "[145 rows x 3 columns]"
            ]
          },
          "execution_count": 37,
          "metadata": {},
          "output_type": "execute_result"
        }
      ],
      "source": [
        "# Ajusta sazonalmente a pnad\n",
        "pnad_sa = (\n",
        "    pnad\n",
        "    .assign(pnad_sa = lambda x: x13.x13_arima_analysis(endog = x.pnad).seasadj)\n",
        "    .reset_index()\n",
        ")\n",
        "\n",
        "pnad_sa"
      ]
    },
    {
      "cell_type": "markdown",
      "metadata": {
        "id": "Sdh_EXr-7ZlL"
      },
      "source": [
        "# 2.2 Taxa de Inflação"
      ]
    },
    {
      "cell_type": "markdown",
      "metadata": {
        "id": "-TjZh6NH738X"
      },
      "source": [
        "## 2.2.1 Expectativa de Inflação"
      ]
    },
    {
      "cell_type": "code",
      "execution_count": 38,
      "metadata": {
        "colab": {
          "base_uri": "https://localhost:8080/",
          "height": 424
        },
        "id": "-nykILocTm1C",
        "outputId": "94633f7a-2799-45e7-a8ad-fc5d9fba9ef9"
      },
      "outputs": [
        {
          "data": {
            "text/html": [
              "<div>\n",
              "<style scoped>\n",
              "    .dataframe tbody tr th:only-of-type {\n",
              "        vertical-align: middle;\n",
              "    }\n",
              "\n",
              "    .dataframe tbody tr th {\n",
              "        vertical-align: top;\n",
              "    }\n",
              "\n",
              "    .dataframe thead th {\n",
              "        text-align: right;\n",
              "    }\n",
              "</style>\n",
              "<table border=\"1\" class=\"dataframe\">\n",
              "  <thead>\n",
              "    <tr style=\"text-align: right;\">\n",
              "      <th></th>\n",
              "      <th>Date</th>\n",
              "      <th>Mediana</th>\n",
              "    </tr>\n",
              "  </thead>\n",
              "  <tbody>\n",
              "    <tr>\n",
              "      <th>0</th>\n",
              "      <td>2001-12-01</td>\n",
              "      <td>5.030000</td>\n",
              "    </tr>\n",
              "    <tr>\n",
              "      <th>1</th>\n",
              "      <td>2002-01-01</td>\n",
              "      <td>4.733636</td>\n",
              "    </tr>\n",
              "    <tr>\n",
              "      <th>2</th>\n",
              "      <td>2002-02-01</td>\n",
              "      <td>4.644737</td>\n",
              "    </tr>\n",
              "    <tr>\n",
              "      <th>3</th>\n",
              "      <td>2002-03-01</td>\n",
              "      <td>4.721500</td>\n",
              "    </tr>\n",
              "    <tr>\n",
              "      <th>4</th>\n",
              "      <td>2002-04-01</td>\n",
              "      <td>4.790000</td>\n",
              "    </tr>\n",
              "    <tr>\n",
              "      <th>...</th>\n",
              "      <td>...</td>\n",
              "      <td>...</td>\n",
              "    </tr>\n",
              "    <tr>\n",
              "      <th>265</th>\n",
              "      <td>2024-01-01</td>\n",
              "      <td>3.862150</td>\n",
              "    </tr>\n",
              "    <tr>\n",
              "      <th>266</th>\n",
              "      <td>2024-02-01</td>\n",
              "      <td>3.720774</td>\n",
              "    </tr>\n",
              "    <tr>\n",
              "      <th>267</th>\n",
              "      <td>2024-03-01</td>\n",
              "      <td>3.489515</td>\n",
              "    </tr>\n",
              "    <tr>\n",
              "      <th>268</th>\n",
              "      <td>2024-04-01</td>\n",
              "      <td>3.530673</td>\n",
              "    </tr>\n",
              "    <tr>\n",
              "      <th>269</th>\n",
              "      <td>2024-05-01</td>\n",
              "      <td>3.596508</td>\n",
              "    </tr>\n",
              "  </tbody>\n",
              "</table>\n",
              "<p>270 rows × 2 columns</p>\n",
              "</div>"
            ],
            "text/plain": [
              "          Date   Mediana\n",
              "0   2001-12-01  5.030000\n",
              "1   2002-01-01  4.733636\n",
              "2   2002-02-01  4.644737\n",
              "3   2002-03-01  4.721500\n",
              "4   2002-04-01  4.790000\n",
              "..         ...       ...\n",
              "265 2024-01-01  3.862150\n",
              "266 2024-02-01  3.720774\n",
              "267 2024-03-01  3.489515\n",
              "268 2024-04-01  3.530673\n",
              "269 2024-05-01  3.596508\n",
              "\n",
              "[270 rows x 2 columns]"
            ]
          },
          "execution_count": 38,
          "metadata": {},
          "output_type": "execute_result"
        }
      ],
      "source": [
        "# Instância a classe de expectativas\n",
        "em = Expectativas()\n",
        "\n",
        "# Obtém o endpoint da Expectativa de Inflação Acumulada em 12 meses\n",
        "exp_ipca_raw = em.get_endpoint('ExpectativasMercadoInflacao12Meses')\n",
        "\n",
        "# Realiza a importação da Expectativa de Inflação Acumulada em 12 meses\n",
        "exp_ipca = (\n",
        "  exp_ipca_raw.query() # faz a consulta\n",
        " .filter(exp_ipca_raw.Indicador == 'IPCA') # filtra apenas para o IPCA\n",
        " .filter(exp_ipca_raw.baseCalculo == '0') # filtra a Base de Cálculo para 0\n",
        " .filter(exp_ipca_raw.Suavizada == 'S') # filtra Suavizada para S\n",
        " .collect() # faz a importação dos dados\n",
        "  [['Data', 'Mediana']]\n",
        "  )\n",
        "\n",
        "# Tratamento da expectativa de inflação em 12 meses\n",
        "## Mensalizza expectativa (média)\n",
        "exp_ipca_aux = (\n",
        "  exp_ipca\n",
        " .assign(Year = lambda x: pd.to_datetime(x.Data).dt.year,\n",
        "         Month = lambda x: pd.to_datetime(x.Data).dt.month)\n",
        "  .groupby(by = ['Year', 'Month'])\n",
        "  .agg({'Mediana' : 'mean'})\n",
        "  .reset_index()\n",
        "  .assign(Date = lambda x: pd.to_datetime(x[['Year', 'Month']].assign(Day = 1)))\n",
        " [['Date', 'Mediana']]\n",
        ")\n",
        "\n",
        "exp_ipca_aux"
      ]
    },
    {
      "cell_type": "markdown",
      "metadata": {
        "id": "Kwg17BTY_6ld"
      },
      "source": [
        "## 2.2.2 Inflação Corrente"
      ]
    },
    {
      "cell_type": "code",
      "execution_count": 39,
      "metadata": {
        "id": "IDdP60zYT2jC"
      },
      "outputs": [],
      "source": [
        "# Importa IPCA mensal\n",
        "df = sgs.get({'ipca': 433}, start='2011-01-01')\n",
        "\n",
        "# Calcula a variação acumulada em 12 meses do IPCA\n",
        "ipca_12m = df.rolling(12).apply(lambda x: (1 + x/100).prod() - 1).dropna() * 100\n",
        "ipca_12m.reset_index(inplace = True)"
      ]
    },
    {
      "cell_type": "markdown",
      "metadata": {
        "id": "kCqEHEEuEqgL"
      },
      "source": [
        "# 2.3 Estimativa NAIRU"
      ]
    },
    {
      "cell_type": "code",
      "execution_count": 40,
      "metadata": {
        "id": "w79k8ydQVimL"
      },
      "outputs": [],
      "source": [
        "# Junta os dataframe\n",
        "dados_ipca = (\n",
        "              pd.merge(ipca_12m, exp_ipca_aux,  how = 'inner', on = 'Date')\n",
        "              .sort_values('Date')\n",
        ")\n",
        "\n",
        "# Cria diferença entre ipca corrente e expectativa\n",
        "dados_ipca['delta_ipca_exp'] = dados_ipca.ipca - dados_ipca.Mediana\n",
        "\n",
        "# Junta os dados\n",
        "dados = (pd.merge(dados_ipca, pnad_sa,  how = 'inner', on = 'Date')\n",
        "              .sort_values('Date')\n",
        "              .set_index('Date')\n",
        "          )\n",
        "\n",
        "# Diferencia desemprego t/t-12\n",
        "dados['pnad_diff12'] = dados.pnad.diff(12)"
      ]
    },
    {
      "cell_type": "code",
      "execution_count": 43,
      "metadata": {
        "colab": {
          "base_uri": "https://localhost:8080/"
        },
        "id": "YAH07-IZX2o5",
        "outputId": "407547c9-5961-4f79-a6e6-20602a957826"
      },
      "outputs": [
        {
          "name": "stdout",
          "output_type": "stream",
          "text": [
            "                            OLS Regression Results                            \n",
            "==============================================================================\n",
            "Dep. Variable:         delta_ipca_exp   R-squared:                       0.024\n",
            "Model:                            OLS   Adj. R-squared:                  0.017\n",
            "Method:                 Least Squares   F-statistic:                     3.289\n",
            "Date:                Tue, 21 May 2024   Prob (F-statistic):             0.0720\n",
            "Time:                        15:53:39   Log-Likelihood:                -281.58\n",
            "No. Observations:                 133   AIC:                             567.2\n",
            "Df Residuals:                     131   BIC:                             572.9\n",
            "Df Model:                           1                                         \n",
            "Covariance Type:            nonrobust                                         \n",
            "===============================================================================\n",
            "                  coef    std err          t      P>|t|      [0.025      0.975]\n",
            "-------------------------------------------------------------------------------\n",
            "Intercept       1.1699      0.176      6.660      0.000       0.822       1.517\n",
            "pnad_diff12    -0.1586      0.087     -1.814      0.072      -0.332       0.014\n",
            "==============================================================================\n",
            "Omnibus:                       15.441   Durbin-Watson:                   0.059\n",
            "Prob(Omnibus):                  0.000   Jarque-Bera (JB):               13.873\n",
            "Skew:                           0.711   Prob(JB):                     0.000972\n",
            "Kurtosis:                       2.307   Cond. No.                         2.01\n",
            "==============================================================================\n",
            "\n",
            "Notes:\n",
            "[1] Standard Errors assume that the covariance matrix of the errors is correctly specified.\n"
          ]
        }
      ],
      "source": [
        "# Ajustar o modelo de regressão usando from_formula\n",
        "cp = sm.OLS.from_formula('delta_ipca_exp ~ pnad_diff12', data=dados).fit()\n",
        "print(cp.summary())"
      ]
    },
    {
      "cell_type": "code",
      "execution_count": 47,
      "metadata": {
        "colab": {
          "base_uri": "https://localhost:8080/",
          "height": 455
        },
        "id": "MBa8o3b1fE66",
        "outputId": "3c684026-2160-4da8-cba6-ca1b6a7dd58a"
      },
      "outputs": [
        {
          "data": {
            "text/html": [
              "<div>\n",
              "<style scoped>\n",
              "    .dataframe tbody tr th:only-of-type {\n",
              "        vertical-align: middle;\n",
              "    }\n",
              "\n",
              "    .dataframe tbody tr th {\n",
              "        vertical-align: top;\n",
              "    }\n",
              "\n",
              "    .dataframe thead th {\n",
              "        text-align: right;\n",
              "    }\n",
              "</style>\n",
              "<table border=\"1\" class=\"dataframe\">\n",
              "  <thead>\n",
              "    <tr style=\"text-align: right;\">\n",
              "      <th></th>\n",
              "      <th>ipca</th>\n",
              "      <th>Mediana</th>\n",
              "      <th>delta_ipca_exp</th>\n",
              "      <th>pnad</th>\n",
              "      <th>pnad_sa</th>\n",
              "      <th>pnad_diff12</th>\n",
              "      <th>nairu</th>\n",
              "    </tr>\n",
              "    <tr>\n",
              "      <th>Date</th>\n",
              "      <th></th>\n",
              "      <th></th>\n",
              "      <th></th>\n",
              "      <th></th>\n",
              "      <th></th>\n",
              "      <th></th>\n",
              "      <th></th>\n",
              "    </tr>\n",
              "  </thead>\n",
              "  <tbody>\n",
              "    <tr>\n",
              "      <th>2012-03-01</th>\n",
              "      <td>5.239993</td>\n",
              "      <td>5.375000</td>\n",
              "      <td>-0.135007</td>\n",
              "      <td>8.0</td>\n",
              "      <td>7.471568</td>\n",
              "      <td>NaN</td>\n",
              "      <td>6.257808</td>\n",
              "    </tr>\n",
              "    <tr>\n",
              "      <th>2012-04-01</th>\n",
              "      <td>5.104226</td>\n",
              "      <td>5.473000</td>\n",
              "      <td>-0.368774</td>\n",
              "      <td>7.8</td>\n",
              "      <td>7.410189</td>\n",
              "      <td>NaN</td>\n",
              "      <td>6.355812</td>\n",
              "    </tr>\n",
              "    <tr>\n",
              "      <th>2012-05-01</th>\n",
              "      <td>4.989152</td>\n",
              "      <td>5.520909</td>\n",
              "      <td>-0.531757</td>\n",
              "      <td>7.7</td>\n",
              "      <td>7.405678</td>\n",
              "      <td>NaN</td>\n",
              "      <td>6.453824</td>\n",
              "    </tr>\n",
              "    <tr>\n",
              "      <th>2012-06-01</th>\n",
              "      <td>4.915770</td>\n",
              "      <td>5.493000</td>\n",
              "      <td>-0.577230</td>\n",
              "      <td>7.6</td>\n",
              "      <td>7.443697</td>\n",
              "      <td>NaN</td>\n",
              "      <td>6.551859</td>\n",
              "    </tr>\n",
              "    <tr>\n",
              "      <th>2012-07-01</th>\n",
              "      <td>5.198590</td>\n",
              "      <td>5.542727</td>\n",
              "      <td>-0.344137</td>\n",
              "      <td>7.5</td>\n",
              "      <td>7.346426</td>\n",
              "      <td>NaN</td>\n",
              "      <td>6.649935</td>\n",
              "    </tr>\n",
              "    <tr>\n",
              "      <th>...</th>\n",
              "      <td>...</td>\n",
              "      <td>...</td>\n",
              "      <td>...</td>\n",
              "      <td>...</td>\n",
              "      <td>...</td>\n",
              "      <td>...</td>\n",
              "      <td>...</td>\n",
              "    </tr>\n",
              "    <tr>\n",
              "      <th>2023-11-01</th>\n",
              "      <td>4.683537</td>\n",
              "      <td>3.928835</td>\n",
              "      <td>0.754702</td>\n",
              "      <td>7.5</td>\n",
              "      <td>7.821635</td>\n",
              "      <td>-0.6</td>\n",
              "      <td>9.841761</td>\n",
              "    </tr>\n",
              "    <tr>\n",
              "      <th>2023-12-01</th>\n",
              "      <td>4.621114</td>\n",
              "      <td>3.896605</td>\n",
              "      <td>0.724509</td>\n",
              "      <td>7.4</td>\n",
              "      <td>7.782947</td>\n",
              "      <td>-0.5</td>\n",
              "      <td>9.701798</td>\n",
              "    </tr>\n",
              "    <tr>\n",
              "      <th>2024-01-01</th>\n",
              "      <td>4.506637</td>\n",
              "      <td>3.862150</td>\n",
              "      <td>0.644487</td>\n",
              "      <td>7.6</td>\n",
              "      <td>7.649792</td>\n",
              "      <td>-0.8</td>\n",
              "      <td>9.561771</td>\n",
              "    </tr>\n",
              "    <tr>\n",
              "      <th>2024-02-01</th>\n",
              "      <td>4.496274</td>\n",
              "      <td>3.720774</td>\n",
              "      <td>0.775500</td>\n",
              "      <td>7.8</td>\n",
              "      <td>7.537439</td>\n",
              "      <td>-0.8</td>\n",
              "      <td>9.421712</td>\n",
              "    </tr>\n",
              "    <tr>\n",
              "      <th>2024-03-01</th>\n",
              "      <td>3.925596</td>\n",
              "      <td>3.489515</td>\n",
              "      <td>0.436081</td>\n",
              "      <td>7.9</td>\n",
              "      <td>7.417003</td>\n",
              "      <td>-0.9</td>\n",
              "      <td>9.281641</td>\n",
              "    </tr>\n",
              "  </tbody>\n",
              "</table>\n",
              "<p>145 rows × 7 columns</p>\n",
              "</div>"
            ],
            "text/plain": [
              "                ipca   Mediana  delta_ipca_exp  pnad   pnad_sa  pnad_diff12  \\\n",
              "Date                                                                          \n",
              "2012-03-01  5.239993  5.375000       -0.135007   8.0  7.471568          NaN   \n",
              "2012-04-01  5.104226  5.473000       -0.368774   7.8  7.410189          NaN   \n",
              "2012-05-01  4.989152  5.520909       -0.531757   7.7  7.405678          NaN   \n",
              "2012-06-01  4.915770  5.493000       -0.577230   7.6  7.443697          NaN   \n",
              "2012-07-01  5.198590  5.542727       -0.344137   7.5  7.346426          NaN   \n",
              "...              ...       ...             ...   ...       ...          ...   \n",
              "2023-11-01  4.683537  3.928835        0.754702   7.5  7.821635         -0.6   \n",
              "2023-12-01  4.621114  3.896605        0.724509   7.4  7.782947         -0.5   \n",
              "2024-01-01  4.506637  3.862150        0.644487   7.6  7.649792         -0.8   \n",
              "2024-02-01  4.496274  3.720774        0.775500   7.8  7.537439         -0.8   \n",
              "2024-03-01  3.925596  3.489515        0.436081   7.9  7.417003         -0.9   \n",
              "\n",
              "               nairu  \n",
              "Date                  \n",
              "2012-03-01  6.257808  \n",
              "2012-04-01  6.355812  \n",
              "2012-05-01  6.453824  \n",
              "2012-06-01  6.551859  \n",
              "2012-07-01  6.649935  \n",
              "...              ...  \n",
              "2023-11-01  9.841761  \n",
              "2023-12-01  9.701798  \n",
              "2024-01-01  9.561771  \n",
              "2024-02-01  9.421712  \n",
              "2024-03-01  9.281641  \n",
              "\n",
              "[145 rows x 7 columns]"
            ]
          },
          "execution_count": 47,
          "metadata": {},
          "output_type": "execute_result"
        }
      ],
      "source": [
        "# Cria as mudanças na curva de phillips\n",
        "shifts_cp = dados.pnad_sa + (dados.delta_ipca_exp / cp.params['Intercept'])\n",
        "\n",
        "# Calcula o filtro HP\n",
        "filtro_cp = sm.tsa.filters.hpfilter(x = shifts_cp, lamb = 129600)\n",
        "\n",
        "# Salva a tendência calculada\n",
        "dados['nairu'] = filtro_cp[1] # posição 1 é a tendência (0=ciclo);\n",
        "dados"
      ]
    },
    {
      "cell_type": "code",
      "execution_count": 51,
      "metadata": {
        "colab": {
          "base_uri": "https://localhost:8080/",
          "height": 634
        },
        "id": "7ggl1-MdhE35",
        "outputId": "e9d1b9b9-c9dc-4d2a-aa41-b9fa341a06d0"
      },
      "outputs": [
        {
          "data": {
            "text/html": [
              "<div>\n",
              "<style scoped>\n",
              "    .dataframe tbody tr th:only-of-type {\n",
              "        vertical-align: middle;\n",
              "    }\n",
              "\n",
              "    .dataframe tbody tr th {\n",
              "        vertical-align: top;\n",
              "    }\n",
              "\n",
              "    .dataframe thead th {\n",
              "        text-align: right;\n",
              "    }\n",
              "</style>\n",
              "<table border=\"1\" class=\"dataframe\">\n",
              "  <thead>\n",
              "    <tr style=\"text-align: right;\">\n",
              "      <th></th>\n",
              "      <th>Date</th>\n",
              "      <th>variable</th>\n",
              "      <th>value</th>\n",
              "    </tr>\n",
              "  </thead>\n",
              "  <tbody>\n",
              "    <tr>\n",
              "      <th>0</th>\n",
              "      <td>2012-03-01</td>\n",
              "      <td>Taxa de Desocupação S.A.</td>\n",
              "      <td>7.471568</td>\n",
              "    </tr>\n",
              "    <tr>\n",
              "      <th>1</th>\n",
              "      <td>2012-04-01</td>\n",
              "      <td>Taxa de Desocupação S.A.</td>\n",
              "      <td>7.410189</td>\n",
              "    </tr>\n",
              "    <tr>\n",
              "      <th>2</th>\n",
              "      <td>2012-05-01</td>\n",
              "      <td>Taxa de Desocupação S.A.</td>\n",
              "      <td>7.405678</td>\n",
              "    </tr>\n",
              "    <tr>\n",
              "      <th>3</th>\n",
              "      <td>2012-06-01</td>\n",
              "      <td>Taxa de Desocupação S.A.</td>\n",
              "      <td>7.443697</td>\n",
              "    </tr>\n",
              "    <tr>\n",
              "      <th>4</th>\n",
              "      <td>2012-07-01</td>\n",
              "      <td>Taxa de Desocupação S.A.</td>\n",
              "      <td>7.346426</td>\n",
              "    </tr>\n",
              "    <tr>\n",
              "      <th>...</th>\n",
              "      <td>...</td>\n",
              "      <td>...</td>\n",
              "      <td>...</td>\n",
              "    </tr>\n",
              "    <tr>\n",
              "      <th>285</th>\n",
              "      <td>2023-11-01</td>\n",
              "      <td>NAIRU</td>\n",
              "      <td>9.841761</td>\n",
              "    </tr>\n",
              "    <tr>\n",
              "      <th>286</th>\n",
              "      <td>2023-12-01</td>\n",
              "      <td>NAIRU</td>\n",
              "      <td>9.701798</td>\n",
              "    </tr>\n",
              "    <tr>\n",
              "      <th>287</th>\n",
              "      <td>2024-01-01</td>\n",
              "      <td>NAIRU</td>\n",
              "      <td>9.561771</td>\n",
              "    </tr>\n",
              "    <tr>\n",
              "      <th>288</th>\n",
              "      <td>2024-02-01</td>\n",
              "      <td>NAIRU</td>\n",
              "      <td>9.421712</td>\n",
              "    </tr>\n",
              "    <tr>\n",
              "      <th>289</th>\n",
              "      <td>2024-03-01</td>\n",
              "      <td>NAIRU</td>\n",
              "      <td>9.281641</td>\n",
              "    </tr>\n",
              "  </tbody>\n",
              "</table>\n",
              "<p>290 rows × 3 columns</p>\n",
              "</div>"
            ],
            "text/plain": [
              "          Date                  variable     value\n",
              "0   2012-03-01  Taxa de Desocupação S.A.  7.471568\n",
              "1   2012-04-01  Taxa de Desocupação S.A.  7.410189\n",
              "2   2012-05-01  Taxa de Desocupação S.A.  7.405678\n",
              "3   2012-06-01  Taxa de Desocupação S.A.  7.443697\n",
              "4   2012-07-01  Taxa de Desocupação S.A.  7.346426\n",
              "..         ...                       ...       ...\n",
              "285 2023-11-01                     NAIRU  9.841761\n",
              "286 2023-12-01                     NAIRU  9.701798\n",
              "287 2024-01-01                     NAIRU  9.561771\n",
              "288 2024-02-01                     NAIRU  9.421712\n",
              "289 2024-03-01                     NAIRU  9.281641\n",
              "\n",
              "[290 rows x 3 columns]"
            ]
          },
          "execution_count": 51,
          "metadata": {},
          "output_type": "execute_result"
        }
      ],
      "source": [
        "# Cria o gráfico\n",
        "dados_long = (\n",
        "            dados\n",
        "            .rename(columns = {'nairu' : 'NAIRU',\n",
        "                              'pnad_sa' : 'Taxa de Desocupação S.A.'})\n",
        "            .reset_index()\n",
        "            [['Date', 'Taxa de Desocupação S.A.', 'NAIRU']]\n",
        "            .melt(id_vars = ['Date'])\n",
        "          )\n",
        "dados_long"
      ]
    },
    {
      "cell_type": "code",
      "execution_count": 52,
      "metadata": {},
      "outputs": [
        {
          "data": {
            "text/plain": [
              "array(['Taxa de Desocupação S.A.', 'NAIRU'], dtype=object)"
            ]
          },
          "execution_count": 52,
          "metadata": {},
          "output_type": "execute_result"
        }
      ],
      "source": [
        "variables = dados_long[\"variable\"].unique()\n",
        "variables"
      ]
    },
    {
      "cell_type": "code",
      "execution_count": 63,
      "metadata": {},
      "outputs": [
        {
          "data": {
            "image/png": "[encoded data removed]",
            "text/plain": [
              "<Figure size 1200x600 with 1 Axes>"
            ]
          },
          "metadata": {},
          "output_type": "display_data"
        }
      ],
      "source": [
        "import matplotlib.pyplot as plt\n",
        "import numpy as np\n",
        "\n",
        "# Setup plot size.\n",
        "fig, ax = plt.subplots(figsize=(12, 6))\n",
        "\n",
        "# Loop through country names and plot each one with a different color.\n",
        "for i, variable in enumerate(variables):\n",
        "    color = plt.cm.tab10(i)  # Use a different color for each variable\n",
        "    ax.plot(dados_long[dados_long['variable'] == variable]['Date'],\n",
        "            dados_long[dados_long['variable'] == variable]['value'],\n",
        "            color=color,\n",
        "            alpha=0.8,\n",
        "            linewidth=3,\n",
        "            label=variable)  # Add label for legend\n",
        "\n",
        "# Add legend below the plot.\n",
        "ax.legend(loc='upper center', bbox_to_anchor=(0.5, -0.1), shadow=True, ncol=len(variables))\n",
        "\n",
        "######### Estética do Gráfico #########\n",
        "# Remove splines. Can be done one at a time or can slice with a list.\n",
        "ax.spines[['top', 'right', 'left']].set_visible(False)\n",
        "\n",
        "ax.yaxis.grid(True, linestyle='--', which='major', color='gray', alpha=0.5)  # Add grid lines for y-axis\n",
        "\n",
        "ax.yaxis.set_tick_params(pad=-2, labeltop=True, labelbottom=False, bottom=False, labelsize=11)\n",
        "\n",
        "# Add in line and tag\n",
        "ax.plot([0.12, .9], [.98, .98], transform=fig.transFigure, clip_on=False, color='#E3120B', linewidth=.6)\n",
        "ax.add_patch(plt.Rectangle((0.12, .98), 0.04, -0.02, facecolor='#E3120B', transform=fig.transFigure, clip_on=False, linewidth=0))\n",
        "\n",
        "# Add in title and subtitle\n",
        "ax.text(x=0.12, y=.92, s=\"Taxa de Desemprego e Estimativa da NAIRU para o Brasil\", transform=fig.transFigure, ha='left', fontsize=13, weight='bold', alpha=.8)\n",
        "# Set source text\n",
        "ax.text(x=0.12, y=0.01, s=\"\"\"Fonte: BCB\"\"\", transform=fig.transFigure, ha='left', fontsize=9, alpha=.7)\n",
        "\n",
        "plt.show()"
      ]
    },
    {
      "cell_type": "code",
      "execution_count": 67,
      "metadata": {
        "colab": {
          "base_uri": "https://localhost:8080/",
          "height": 634
        },
        "id": "3f2FH8rPP3--",
        "outputId": "5f118eee-2440-4c22-f0af-0fd652543dff"
      },
      "outputs": [
        {
          "data": {
            "text/html": [
              "<div>\n",
              "<style scoped>\n",
              "    .dataframe tbody tr th:only-of-type {\n",
              "        vertical-align: middle;\n",
              "    }\n",
              "\n",
              "    .dataframe tbody tr th {\n",
              "        vertical-align: top;\n",
              "    }\n",
              "\n",
              "    .dataframe thead th {\n",
              "        text-align: right;\n",
              "    }\n",
              "</style>\n",
              "<table border=\"1\" class=\"dataframe\">\n",
              "  <thead>\n",
              "    <tr style=\"text-align: right;\">\n",
              "      <th></th>\n",
              "      <th>Date</th>\n",
              "      <th>variable</th>\n",
              "      <th>value</th>\n",
              "    </tr>\n",
              "  </thead>\n",
              "  <tbody>\n",
              "    <tr>\n",
              "      <th>0</th>\n",
              "      <td>2012-03-01</td>\n",
              "      <td>Taxa de Desocupação - NAIRU</td>\n",
              "      <td>1.213759</td>\n",
              "    </tr>\n",
              "    <tr>\n",
              "      <th>1</th>\n",
              "      <td>2012-04-01</td>\n",
              "      <td>Taxa de Desocupação - NAIRU</td>\n",
              "      <td>1.054377</td>\n",
              "    </tr>\n",
              "    <tr>\n",
              "      <th>2</th>\n",
              "      <td>2012-05-01</td>\n",
              "      <td>Taxa de Desocupação - NAIRU</td>\n",
              "      <td>0.951854</td>\n",
              "    </tr>\n",
              "    <tr>\n",
              "      <th>3</th>\n",
              "      <td>2012-06-01</td>\n",
              "      <td>Taxa de Desocupação - NAIRU</td>\n",
              "      <td>0.891838</td>\n",
              "    </tr>\n",
              "    <tr>\n",
              "      <th>4</th>\n",
              "      <td>2012-07-01</td>\n",
              "      <td>Taxa de Desocupação - NAIRU</td>\n",
              "      <td>0.696491</td>\n",
              "    </tr>\n",
              "    <tr>\n",
              "      <th>...</th>\n",
              "      <td>...</td>\n",
              "      <td>...</td>\n",
              "      <td>...</td>\n",
              "    </tr>\n",
              "    <tr>\n",
              "      <th>285</th>\n",
              "      <td>2023-11-01</td>\n",
              "      <td>IPCA acumulado em 12 meses</td>\n",
              "      <td>4.683537</td>\n",
              "    </tr>\n",
              "    <tr>\n",
              "      <th>286</th>\n",
              "      <td>2023-12-01</td>\n",
              "      <td>IPCA acumulado em 12 meses</td>\n",
              "      <td>4.621114</td>\n",
              "    </tr>\n",
              "    <tr>\n",
              "      <th>287</th>\n",
              "      <td>2024-01-01</td>\n",
              "      <td>IPCA acumulado em 12 meses</td>\n",
              "      <td>4.506637</td>\n",
              "    </tr>\n",
              "    <tr>\n",
              "      <th>288</th>\n",
              "      <td>2024-02-01</td>\n",
              "      <td>IPCA acumulado em 12 meses</td>\n",
              "      <td>4.496274</td>\n",
              "    </tr>\n",
              "    <tr>\n",
              "      <th>289</th>\n",
              "      <td>2024-03-01</td>\n",
              "      <td>IPCA acumulado em 12 meses</td>\n",
              "      <td>3.925596</td>\n",
              "    </tr>\n",
              "  </tbody>\n",
              "</table>\n",
              "<p>290 rows × 3 columns</p>\n",
              "</div>"
            ],
            "text/plain": [
              "          Date                     variable     value\n",
              "0   2012-03-01  Taxa de Desocupação - NAIRU  1.213759\n",
              "1   2012-04-01  Taxa de Desocupação - NAIRU  1.054377\n",
              "2   2012-05-01  Taxa de Desocupação - NAIRU  0.951854\n",
              "3   2012-06-01  Taxa de Desocupação - NAIRU  0.891838\n",
              "4   2012-07-01  Taxa de Desocupação - NAIRU  0.696491\n",
              "..         ...                          ...       ...\n",
              "285 2023-11-01   IPCA acumulado em 12 meses  4.683537\n",
              "286 2023-12-01   IPCA acumulado em 12 meses  4.621114\n",
              "287 2024-01-01   IPCA acumulado em 12 meses  4.506637\n",
              "288 2024-02-01   IPCA acumulado em 12 meses  4.496274\n",
              "289 2024-03-01   IPCA acumulado em 12 meses  3.925596\n",
              "\n",
              "[290 rows x 3 columns]"
            ]
          },
          "execution_count": 67,
          "metadata": {},
          "output_type": "execute_result"
        }
      ],
      "source": [
        "# Cria hiato do desemprego\n",
        "dados['hiato_pnad'] = dados.pnad_sa.values - dados.nairu.values\n",
        "\n",
        "# Cria o gráfico\n",
        "dados_hiato_long = (\n",
        "            dados\n",
        "            .rename(columns = {'ipca' : 'IPCA acumulado em 12 meses',\n",
        "                              'hiato_pnad' : 'Taxa de Desocupação - NAIRU'})\n",
        "            .reset_index()\n",
        "            [['Date', 'Taxa de Desocupação - NAIRU', 'IPCA acumulado em 12 meses']]\n",
        "            .melt(id_vars = ['Date'])\n",
        "          )\n",
        "dados_hiato_long"
      ]
    },
    {
      "cell_type": "code",
      "execution_count": 69,
      "metadata": {},
      "outputs": [
        {
          "data": {
            "text/plain": [
              "array(['Taxa de Desocupação - NAIRU', 'IPCA acumulado em 12 meses'],\n",
              "      dtype=object)"
            ]
          },
          "execution_count": 69,
          "metadata": {},
          "output_type": "execute_result"
        }
      ],
      "source": [
        "variables_2 = dados_hiato_long[\"variable\"].unique()\n",
        "variables_2"
      ]
    },
    {
      "cell_type": "code",
      "execution_count": 71,
      "metadata": {},
      "outputs": [
        {
          "data": {
            "image/png": "[encoded data removed]",
            "text/plain": [
              "<Figure size 1200x600 with 1 Axes>"
            ]
          },
          "metadata": {},
          "output_type": "display_data"
        }
      ],
      "source": [
        "import matplotlib.pyplot as plt\n",
        "import numpy as np\n",
        "\n",
        "# Setup plot size.\n",
        "fig, ax = plt.subplots(figsize=(12, 6))\n",
        "\n",
        "# Loop through country names and plot each one with a different color.\n",
        "for i, variable in enumerate(variables_2):\n",
        "    color = plt.cm.tab10(i)  # Use a different color for each variable\n",
        "    ax.plot(dados_hiato_long[dados_hiato_long['variable'] == variable]['Date'],\n",
        "            dados_hiato_long[dados_hiato_long['variable'] == variable]['value'],\n",
        "            color=color,\n",
        "            alpha=0.8,\n",
        "            linewidth=3,\n",
        "            label=variable)  # Add label for legend\n",
        "\n",
        "# Add legend below the plot.\n",
        "ax.legend(loc='upper center', bbox_to_anchor=(0.5, -0.1), shadow=True, ncol=len(variables_2))\n",
        "\n",
        "######### Estética do Gráfico #########\n",
        "# Remove splines. Can be done one at a time or can slice with a list.\n",
        "ax.spines[['top', 'right', 'left']].set_visible(False)\n",
        "\n",
        "ax.yaxis.grid(True, linestyle='--', which='major', color='gray', alpha=0.5)  # Add grid lines for y-axis\n",
        "\n",
        "ax.yaxis.set_tick_params(pad=-2, labeltop=True, labelbottom=False, bottom=False, labelsize=11)\n",
        "\n",
        "# Add in line and tag\n",
        "ax.plot([0.12, .9], [.98, .98], transform=fig.transFigure, clip_on=False, color='#E3120B', linewidth=.6)\n",
        "ax.add_patch(plt.Rectangle((0.12, .98), 0.04, -0.02, facecolor='#E3120B', transform=fig.transFigure, clip_on=False, linewidth=0))\n",
        "\n",
        "# Add in title and subtitle\n",
        "ax.text(x=0.12, y=.92, s=\"Taxa de Desemprego e Estimativa da NAIRU para o Brasil\", transform=fig.transFigure, ha='left', fontsize=13, weight='bold', alpha=.8)\n",
        "# Set source text\n",
        "ax.text(x=0.12, y=0.01, s=\"\"\"Fonte: BCB\"\"\", transform=fig.transFigure, ha='left', fontsize=9, alpha=.7)\n",
        "\n",
        "plt.show()"
      ]
    }
  ],
  "metadata": {
    "colab": {
      "provenance": []
    },
    "kernelspec": {
      "display_name": "Python 3",
      "name": "python3"
    },
    "language_info": {
      "codemirror_mode": {
        "name": "ipython",
        "version": 3
      },
      "file_extension": ".py",
      "mimetype": "text/x-python",
      "name": "python",
      "nbconvert_exporter": "python",
      "pygments_lexer": "ipython3",
      "version": "3.11.7"
    }
  },
  "nbformat": 4,
  "nbformat_minor": 0
}
